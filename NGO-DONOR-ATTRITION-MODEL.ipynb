{
 "cells": [
  {
   "cell_type": "markdown",
   "metadata": {},
   "source": [
    "# 1. Introduction\n",
    "\n",
    "The data at hand is a part of the database of a fundraising organization. The fundraising organization gave you a data dump as of 02/02/2007. They will  use  the  model  you  create to  score  their customer  base in  terms  of  their churn probability.\n",
    "\n",
    "**Submitted By : _Shriya Jain_**"
   ]
  },
  {
   "cell_type": "markdown",
   "metadata": {},
   "source": [
    "# 2. Data Prepration"
   ]
  },
  {
   "cell_type": "markdown",
   "metadata": {},
   "source": [
    "## 2.1 Import libraries"
   ]
  },
  {
   "cell_type": "code",
   "execution_count": 4,
   "metadata": {},
   "outputs": [],
   "source": [
    "import pandas as pd\n",
    "import numpy as np\n",
    "import matplotlib.pyplot as plt\n",
    "import seaborn as sns\n",
    "import datetime\n",
    "\n",
    "from IPython.core.interactiveshell import InteractiveShell\n",
    "InteractiveShell.ast_node_interactivity = \"all\"\n",
    "\n",
    "from sklearn.preprocessing import LabelEncoder\n",
    "from sklearn.preprocessing import StandardScaler\n",
    "from sklearn.svm import SVC\n",
    "from sklearn.ensemble import RandomForestClassifier as RFC\n",
    "from sklearn.neighbors import KNeighborsClassifier as KNC\n",
    "from sklearn.linear_model import LogisticRegression as LR\n",
    "from sklearn.ensemble import GradientBoostingClassifier as GBC\n",
    "\n",
    "from sklearn.metrics import roc_auc_score\n",
    "from sklearn.metrics import accuracy_score,confusion_matrix,f1_score\n",
    "from sklearn.metrics import average_precision_score\n",
    "from sklearn.metrics import recall_score\n"
   ]
  },
  {
   "cell_type": "markdown",
   "metadata": {},
   "source": [
    "Data dump is taken of 02/02/2017 "
   ]
  },
  {
   "cell_type": "code",
   "execution_count": 5,
   "metadata": {},
   "outputs": [],
   "source": [
    "today = datetime.datetime(2007,2,2)"
   ]
  },
  {
   "cell_type": "markdown",
   "metadata": {},
   "source": [
    "## 2.2 Load Data"
   ]
  },
  {
   "cell_type": "code",
   "execution_count": 6,
   "metadata": {},
   "outputs": [
    {
     "name": "stdout",
     "output_type": "stream",
     "text": [
      "<class 'pandas.core.frame.DataFrame'>\n",
      "Int64Index: 763569 entries, 0 to 763568\n",
      "Data columns (total 7 columns):\n",
      "CONTID        763569 non-null object\n",
      "MEDIUMCODE    763569 non-null object\n",
      "MNTOPCODE     763569 non-null object\n",
      "CLASCODE      763569 non-null object\n",
      "EXTRELNO      763569 non-null object\n",
      "CONTDIREC     763569 non-null object\n",
      "CONTDATE      763569 non-null datetime64[ns]\n",
      "dtypes: datetime64[ns](1), object(6)\n",
      "memory usage: 46.6+ MB\n"
     ]
    },
    {
     "data": {
      "text/plain": [
       "188"
      ]
     },
     "execution_count": 6,
     "metadata": {},
     "output_type": "execute_result"
    },
    {
     "data": {
      "text/plain": [
       "CONTID        763328\n",
       "MEDIUMCODE        15\n",
       "MNTOPCODE         24\n",
       "CLASCODE           9\n",
       "EXTRELNO       21932\n",
       "CONTDIREC          2\n",
       "CONTDATE        3290\n",
       "dtype: int64"
      ]
     },
     "execution_count": 6,
     "metadata": {},
     "output_type": "execute_result"
    }
   ],
   "source": [
    "communication = pd.read_sas('1 - Data for Churn Modeling/communication.sas7bdat')\n",
    "communication.info()\n",
    "communication.duplicated().sum()\n",
    "communication.nunique()"
   ]
  },
  {
   "cell_type": "code",
   "execution_count": 7,
   "metadata": {},
   "outputs": [
    {
     "data": {
      "text/plain": [
       "0"
      ]
     },
     "execution_count": 7,
     "metadata": {},
     "output_type": "execute_result"
    }
   ],
   "source": [
    "communication.drop_duplicates(inplace=True)\n",
    "communication.duplicated().sum()"
   ]
  },
  {
   "cell_type": "code",
   "execution_count": 8,
   "metadata": {},
   "outputs": [
    {
     "name": "stdout",
     "output_type": "stream",
     "text": [
      "<class 'pandas.core.frame.DataFrame'>\n",
      "Int64Index: 26689 entries, 0 to 26688\n",
      "Data columns (total 4 columns):\n",
      "EXTRELNO      26689 non-null object\n",
      "EXRELACTCD    26689 non-null object\n",
      "EXTRELSTDT    26689 non-null datetime64[ns]\n",
      "EXRELDATEN    10168 non-null datetime64[ns]\n",
      "dtypes: datetime64[ns](2), object(2)\n",
      "memory usage: 1.0+ MB\n"
     ]
    },
    {
     "data": {
      "text/plain": [
       "0"
      ]
     },
     "execution_count": 8,
     "metadata": {},
     "output_type": "execute_result"
    },
    {
     "data": {
      "text/plain": [
       "EXTRELNO      18704\n",
       "EXRELACTCD       17\n",
       "EXTRELSTDT     2877\n",
       "EXRELDATEN     2567\n",
       "dtype: int64"
      ]
     },
     "execution_count": 8,
     "metadata": {},
     "output_type": "execute_result"
    }
   ],
   "source": [
    "extrel = pd.read_sas('1 - Data for Churn Modeling/extrel.sas7bdat')\n",
    "extrel.info()\n",
    "extrel.duplicated().sum()\n",
    "extrel.nunique()"
   ]
  },
  {
   "cell_type": "code",
   "execution_count": 9,
   "metadata": {},
   "outputs": [
    {
     "name": "stdout",
     "output_type": "stream",
     "text": [
      "<class 'pandas.core.frame.DataFrame'>\n",
      "Int64Index: 24186 entries, 0 to 24185\n",
      "Data columns (total 4 columns):\n",
      "EXTRELNO      24186 non-null object\n",
      "NAME1TITLE    23593 non-null object\n",
      "POSTCODE      24034 non-null object\n",
      "LANGUACODE    24186 non-null object\n",
      "dtypes: object(4)\n",
      "memory usage: 944.8+ KB\n"
     ]
    },
    {
     "data": {
      "text/plain": [
       "0"
      ]
     },
     "execution_count": 9,
     "metadata": {},
     "output_type": "execute_result"
    },
    {
     "data": {
      "text/plain": [
       "EXTRELNO      24186\n",
       "NAME1TITLE        7\n",
       "POSTCODE       1080\n",
       "LANGUACODE        3\n",
       "dtype: int64"
      ]
     },
     "execution_count": 9,
     "metadata": {},
     "output_type": "execute_result"
    }
   ],
   "source": [
    "nameaddr = pd.read_sas('1 - Data for Churn Modeling/nameaddr.sas7bdat')\n",
    "nameaddr.info()\n",
    "nameaddr.duplicated().sum()\n",
    "nameaddr.nunique()"
   ]
  },
  {
   "cell_type": "code",
   "execution_count": 10,
   "metadata": {
    "scrolled": true
   },
   "outputs": [
    {
     "name": "stdout",
     "output_type": "stream",
     "text": [
      "<class 'pandas.core.frame.DataFrame'>\n",
      "Int64Index: 1205720 entries, 0 to 1205719\n",
      "Data columns (total 6 columns):\n",
      "PID          1205720 non-null float64\n",
      "PDATE        1205720 non-null datetime64[ns]\n",
      "PAMT         1205720 non-null float64\n",
      "EXTRELNO     1205720 non-null object\n",
      "PAYTYPECD    1187546 non-null object\n",
      "STATUS       1205719 non-null object\n",
      "dtypes: datetime64[ns](1), float64(2), object(3)\n",
      "memory usage: 64.4+ MB\n"
     ]
    },
    {
     "data": {
      "text/plain": [
       "0"
      ]
     },
     "execution_count": 10,
     "metadata": {},
     "output_type": "execute_result"
    },
    {
     "data": {
      "text/plain": [
       "PID          1205720\n",
       "PDATE           3483\n",
       "PAMT            1395\n",
       "EXTRELNO       16308\n",
       "PAYTYPECD          4\n",
       "STATUS             4\n",
       "dtype: int64"
      ]
     },
     "execution_count": 10,
     "metadata": {},
     "output_type": "execute_result"
    }
   ],
   "source": [
    "payhistory = pd.read_sas('1 - Data for Churn Modeling/payhistory.sas7bdat')\n",
    "payhistory.info()\n",
    "payhistory.duplicated().sum()\n",
    "payhistory.nunique()"
   ]
  },
  {
   "cell_type": "markdown",
   "metadata": {},
   "source": [
    "## 2.3 Identifying Active Customers\n",
    "- Only use data from the independent window to create the predictor variables (Xs)\n",
    "- End of independent window = 03 December 2005\n",
    "- Start of dependent window = 01 January 2006\n",
    "- End of dependent window = 31 December 2006 \n",
    "\n",
    "An active customer as one with \n",
    "- Exrelactcd – Activity code of the donor (FP means active) \n",
    "- start date before end of IW \n",
    "- end date after start of DW [means he was active during IW]\n",
    "- missing [means still a donor]\n",
    "\n"
   ]
  },
  {
   "cell_type": "code",
   "execution_count": 11,
   "metadata": {},
   "outputs": [],
   "source": [
    "extrel_active = extrel[(extrel['EXRELACTCD']=='FP') & (~(extrel['EXRELDATEN'] <'2006-01-01')) & (extrel['EXTRELSTDT']<'2005-12-03')]"
   ]
  },
  {
   "cell_type": "markdown",
   "metadata": {},
   "source": [
    "Since active customer has only one activity code\n",
    "dropping activity code column "
   ]
  },
  {
   "cell_type": "code",
   "execution_count": 12,
   "metadata": {},
   "outputs": [],
   "source": [
    "extrel_active = extrel_active.drop(columns=['EXRELACTCD'])"
   ]
  },
  {
   "cell_type": "markdown",
   "metadata": {},
   "source": [
    "## 2.4 Adding Churn column\n",
    "Those customers have Activity End Date have churned "
   ]
  },
  {
   "cell_type": "code",
   "execution_count": 13,
   "metadata": {},
   "outputs": [],
   "source": [
    "extrel_active['Churn'] = np.where(extrel_active['EXRELDATEN'].isnull(), 0, 1)"
   ]
  },
  {
   "cell_type": "code",
   "execution_count": 14,
   "metadata": {},
   "outputs": [
    {
     "data": {
      "text/plain": [
       "EXTRELNO      7181\n",
       "EXTRELSTDT     166\n",
       "EXRELDATEN     143\n",
       "Churn            2\n",
       "dtype: int64"
      ]
     },
     "execution_count": 14,
     "metadata": {},
     "output_type": "execute_result"
    }
   ],
   "source": [
    "extrel_active.nunique()"
   ]
  },
  {
   "cell_type": "markdown",
   "metadata": {},
   "source": [
    "## 2.5 Recency, Frequency, Monetary Value"
   ]
  },
  {
   "cell_type": "code",
   "execution_count": 15,
   "metadata": {},
   "outputs": [],
   "source": [
    "PAMT_COUNT = pd.DataFrame(payhistory.pivot_table(index='EXTRELNO', values='PAMT', aggfunc='count'))\n",
    "RECENT_TRANS = pd.DataFrame(payhistory.sort_values(ascending=0, by='PDATE').groupby('EXTRELNO')['PDATE'].nth(0))\n",
    "PAMT_SUM = payhistory.pivot_table(index='EXTRELNO', values='PAMT', aggfunc='sum')\n",
    "PAMT_MEAN = payhistory.pivot_table(index='EXTRELNO', values='PAMT', aggfunc='mean')\n",
    "RECENT_COMM = pd.DataFrame(communication.drop(columns=['CONTID']).sort_values(ascending=0, by='CONTDATE').groupby('EXTRELNO').nth(0))\n",
    "\n"
   ]
  },
  {
   "cell_type": "code",
   "execution_count": 16,
   "metadata": {
    "scrolled": true
   },
   "outputs": [
    {
     "data": {
      "text/plain": [
       "Index([u'PAMT'], dtype='object')"
      ]
     },
     "execution_count": 16,
     "metadata": {},
     "output_type": "execute_result"
    },
    {
     "data": {
      "text/plain": [
       "Index([u'PDATE'], dtype='object')"
      ]
     },
     "execution_count": 16,
     "metadata": {},
     "output_type": "execute_result"
    },
    {
     "data": {
      "text/plain": [
       "Index([u'PAMT'], dtype='object')"
      ]
     },
     "execution_count": 16,
     "metadata": {},
     "output_type": "execute_result"
    },
    {
     "data": {
      "text/plain": [
       "Index([u'PAMT'], dtype='object')"
      ]
     },
     "execution_count": 16,
     "metadata": {},
     "output_type": "execute_result"
    },
    {
     "data": {
      "text/plain": [
       "Index([u'CLASCODE', u'CONTDATE', u'CONTDIREC', u'MEDIUMCODE', u'MNTOPCODE'], dtype='object')"
      ]
     },
     "execution_count": 16,
     "metadata": {},
     "output_type": "execute_result"
    }
   ],
   "source": [
    "PAMT_COUNT.columns\n",
    "RECENT_TRANS.columns\n",
    "PAMT_SUM.columns\n",
    "PAMT_MEAN.columns\n",
    "RECENT_COMM.columns\n"
   ]
  },
  {
   "cell_type": "code",
   "execution_count": 18,
   "metadata": {
    "scrolled": false
   },
   "outputs": [
    {
     "data": {
      "text/html": [
       "<div>\n",
       "<style scoped>\n",
       "    .dataframe tbody tr th:only-of-type {\n",
       "        vertical-align: middle;\n",
       "    }\n",
       "\n",
       "    .dataframe tbody tr th {\n",
       "        vertical-align: top;\n",
       "    }\n",
       "\n",
       "    .dataframe thead th {\n",
       "        text-align: right;\n",
       "    }\n",
       "</style>\n",
       "<table border=\"1\" class=\"dataframe\">\n",
       "  <thead>\n",
       "    <tr style=\"text-align: right;\">\n",
       "      <th></th>\n",
       "      <th>EXTRELNO</th>\n",
       "      <th>PAMT_COUNT</th>\n",
       "      <th>PAMT_SUM</th>\n",
       "      <th>PAMT_MEAN</th>\n",
       "      <th>RECENT_TRANS</th>\n",
       "      <th>CLASCODE</th>\n",
       "      <th>CONTDATE</th>\n",
       "      <th>CONTDIREC</th>\n",
       "      <th>MEDIUMCODE</th>\n",
       "      <th>MNTOPCODE</th>\n",
       "    </tr>\n",
       "  </thead>\n",
       "  <tbody>\n",
       "    <tr>\n",
       "      <th>0</th>\n",
       "      <td>0000019</td>\n",
       "      <td>1.0</td>\n",
       "      <td>9.57</td>\n",
       "      <td>9.570000</td>\n",
       "      <td>1993-12-31</td>\n",
       "      <td>NaN</td>\n",
       "      <td>NaT</td>\n",
       "      <td>NaN</td>\n",
       "      <td>NaN</td>\n",
       "      <td>NaN</td>\n",
       "    </tr>\n",
       "    <tr>\n",
       "      <th>1</th>\n",
       "      <td>0000020</td>\n",
       "      <td>158.0</td>\n",
       "      <td>3176.97</td>\n",
       "      <td>20.107405</td>\n",
       "      <td>2007-01-17</td>\n",
       "      <td>CT</td>\n",
       "      <td>2006-08-10</td>\n",
       "      <td>O</td>\n",
       "      <td>CI</td>\n",
       "      <td>CTS</td>\n",
       "    </tr>\n",
       "    <tr>\n",
       "      <th>2</th>\n",
       "      <td>0000035</td>\n",
       "      <td>155.0</td>\n",
       "      <td>3168.40</td>\n",
       "      <td>20.441290</td>\n",
       "      <td>2007-01-17</td>\n",
       "      <td>CT</td>\n",
       "      <td>2006-10-03</td>\n",
       "      <td>O</td>\n",
       "      <td>CI</td>\n",
       "      <td>CTS</td>\n",
       "    </tr>\n",
       "    <tr>\n",
       "      <th>3</th>\n",
       "      <td>0000042</td>\n",
       "      <td>85.0</td>\n",
       "      <td>1543.03</td>\n",
       "      <td>18.153294</td>\n",
       "      <td>2001-01-23</td>\n",
       "      <td>AN</td>\n",
       "      <td>2001-03-29</td>\n",
       "      <td>O</td>\n",
       "      <td>LE</td>\n",
       "      <td>DIS</td>\n",
       "    </tr>\n",
       "    <tr>\n",
       "      <th>4</th>\n",
       "      <td>0000043</td>\n",
       "      <td>229.0</td>\n",
       "      <td>4373.24</td>\n",
       "      <td>19.097118</td>\n",
       "      <td>2003-07-14</td>\n",
       "      <td>ID</td>\n",
       "      <td>2004-01-23</td>\n",
       "      <td>O</td>\n",
       "      <td>LE</td>\n",
       "      <td>TAX</td>\n",
       "    </tr>\n",
       "  </tbody>\n",
       "</table>\n",
       "</div>"
      ],
      "text/plain": [
       "  EXTRELNO  PAMT_COUNT  PAMT_SUM  PAMT_MEAN RECENT_TRANS CLASCODE   CONTDATE  \\\n",
       "0  0000019         1.0      9.57   9.570000   1993-12-31      NaN        NaT   \n",
       "1  0000020       158.0   3176.97  20.107405   2007-01-17       CT 2006-08-10   \n",
       "2  0000035       155.0   3168.40  20.441290   2007-01-17       CT 2006-10-03   \n",
       "3  0000042        85.0   1543.03  18.153294   2001-01-23       AN 2001-03-29   \n",
       "4  0000043       229.0   4373.24  19.097118   2003-07-14       ID 2004-01-23   \n",
       "\n",
       "  CONTDIREC MEDIUMCODE MNTOPCODE  \n",
       "0       NaN        NaN       NaN  \n",
       "1         O         CI       CTS  \n",
       "2         O         CI       CTS  \n",
       "3         O         LE       DIS  \n",
       "4         O         LE       TAX  "
      ]
     },
     "execution_count": 18,
     "metadata": {},
     "output_type": "execute_result"
    },
    {
     "data": {
      "text/plain": [
       "EXTRELNO        22919\n",
       "PAMT_COUNT        344\n",
       "PAMT_SUM         9280\n",
       "PAMT_MEAN       11281\n",
       "RECENT_TRANS     1898\n",
       "CLASCODE            8\n",
       "CONTDATE         2238\n",
       "CONTDIREC           2\n",
       "MEDIUMCODE         13\n",
       "MNTOPCODE          21\n",
       "dtype: int64"
      ]
     },
     "execution_count": 18,
     "metadata": {},
     "output_type": "execute_result"
    }
   ],
   "source": [
    "df_RF = pd.concat([PAMT_COUNT,PAMT_SUM,PAMT_MEAN,RECENT_TRANS,RECENT_COMM],axis=1,sort=False)\n",
    "df_RF = df_RF.reset_index()\n",
    "df_RF.columns = ['EXTRELNO','PAMT_COUNT','PAMT_SUM','PAMT_MEAN','RECENT_TRANS','CLASCODE','CONTDATE','CONTDIREC','MEDIUMCODE','MNTOPCODE']\n",
    "df_RF.head()\n",
    "df_RF.nunique()"
   ]
  },
  {
   "cell_type": "markdown",
   "metadata": {},
   "source": [
    "## 2.6 Merging Data\n",
    "\n",
    "- Active customers data\n",
    "- Recency Frequency Monetary data\n",
    "- customers demography data"
   ]
  },
  {
   "cell_type": "code",
   "execution_count": 19,
   "metadata": {},
   "outputs": [],
   "source": [
    "base_df = pd.merge(pd.merge(extrel_active,df_RF),nameaddr)"
   ]
  },
  {
   "cell_type": "code",
   "execution_count": 20,
   "metadata": {},
   "outputs": [
    {
     "data": {
      "text/plain": [
       "EXTRELNO        7181\n",
       "EXTRELSTDT       166\n",
       "EXRELDATEN       143\n",
       "Churn              2\n",
       "PAMT_COUNT       274\n",
       "PAMT_SUM        3319\n",
       "PAMT_MEAN       4480\n",
       "RECENT_TRANS     354\n",
       "CLASCODE           6\n",
       "CONTDATE         221\n",
       "CONTDIREC          2\n",
       "MEDIUMCODE        11\n",
       "MNTOPCODE         18\n",
       "NAME1TITLE         6\n",
       "POSTCODE         770\n",
       "LANGUACODE         2\n",
       "dtype: int64"
      ]
     },
     "execution_count": 20,
     "metadata": {},
     "output_type": "execute_result"
    }
   ],
   "source": [
    "base_df.nunique()"
   ]
  },
  {
   "cell_type": "markdown",
   "metadata": {},
   "source": [
    "## 2.7 Churn per Year"
   ]
  },
  {
   "cell_type": "code",
   "execution_count": 21,
   "metadata": {},
   "outputs": [
    {
     "data": {
      "text/plain": [
       "<matplotlib.axes._subplots.AxesSubplot at 0x2aa8b208>"
      ]
     },
     "execution_count": 21,
     "metadata": {},
     "output_type": "execute_result"
    },
    {
     "data": {
      "image/png": "[encoded data removed]",
      "text/plain": [
       "<Figure size 432x288 with 1 Axes>"
      ]
     },
     "metadata": {
      "needs_background": "light"
     },
     "output_type": "display_data"
    }
   ],
   "source": [
    "sns.lineplot(data=base_df.pivot_table(index=map(lambda x : x.year, extrel_active['EXTRELSTDT']), values='Churn', aggfunc='mean'))"
   ]
  },
  {
   "cell_type": "markdown",
   "metadata": {},
   "source": [
    "Churn is increasing every year"
   ]
  },
  {
   "cell_type": "markdown",
   "metadata": {},
   "source": [
    "## 2.8 Creating Predictor Variables"
   ]
  },
  {
   "cell_type": "code",
   "execution_count": 22,
   "metadata": {},
   "outputs": [
    {
     "data": {
      "text/html": [
       "<div>\n",
       "<style scoped>\n",
       "    .dataframe tbody tr th:only-of-type {\n",
       "        vertical-align: middle;\n",
       "    }\n",
       "\n",
       "    .dataframe tbody tr th {\n",
       "        vertical-align: top;\n",
       "    }\n",
       "\n",
       "    .dataframe thead th {\n",
       "        text-align: right;\n",
       "    }\n",
       "</style>\n",
       "<table border=\"1\" class=\"dataframe\">\n",
       "  <thead>\n",
       "    <tr style=\"text-align: right;\">\n",
       "      <th></th>\n",
       "      <th>EXTRELNO</th>\n",
       "      <th>EXTRELSTDT</th>\n",
       "      <th>EXRELDATEN</th>\n",
       "      <th>Churn</th>\n",
       "      <th>PAMT_COUNT</th>\n",
       "      <th>PAMT_SUM</th>\n",
       "      <th>PAMT_MEAN</th>\n",
       "      <th>RECENT_TRANS</th>\n",
       "      <th>CLASCODE</th>\n",
       "      <th>CONTDATE</th>\n",
       "      <th>CONTDIREC</th>\n",
       "      <th>MEDIUMCODE</th>\n",
       "      <th>MNTOPCODE</th>\n",
       "      <th>NAME1TITLE</th>\n",
       "      <th>POSTCODE</th>\n",
       "      <th>LANGUACODE</th>\n",
       "      <th>RECENCY_DAYS_TRANS</th>\n",
       "      <th>RECENCY_DAYS_COMM</th>\n",
       "      <th>REL_DURATION</th>\n",
       "      <th>STARTYEAR</th>\n",
       "    </tr>\n",
       "  </thead>\n",
       "  <tbody>\n",
       "    <tr>\n",
       "      <th>0</th>\n",
       "      <td>0026419</td>\n",
       "      <td>1992-03-01</td>\n",
       "      <td>NaT</td>\n",
       "      <td>0</td>\n",
       "      <td>69.0</td>\n",
       "      <td>3155.05</td>\n",
       "      <td>45.725362</td>\n",
       "      <td>2007-01-02</td>\n",
       "      <td>CT</td>\n",
       "      <td>2006-07-19</td>\n",
       "      <td>O</td>\n",
       "      <td>CI</td>\n",
       "      <td>CTS</td>\n",
       "      <td>HM</td>\n",
       "      <td>2600</td>\n",
       "      <td>NL</td>\n",
       "      <td>31.0</td>\n",
       "      <td>198</td>\n",
       "      <td>5451</td>\n",
       "      <td>1992</td>\n",
       "    </tr>\n",
       "    <tr>\n",
       "      <th>1</th>\n",
       "      <td>0026430</td>\n",
       "      <td>1992-03-01</td>\n",
       "      <td>2006-01-31</td>\n",
       "      <td>1</td>\n",
       "      <td>146.0</td>\n",
       "      <td>2786.13</td>\n",
       "      <td>19.083082</td>\n",
       "      <td>2005-10-18</td>\n",
       "      <td>AK</td>\n",
       "      <td>2006-03-16</td>\n",
       "      <td>O</td>\n",
       "      <td>LE</td>\n",
       "      <td>DIS</td>\n",
       "      <td>HM</td>\n",
       "      <td>2040</td>\n",
       "      <td>NL</td>\n",
       "      <td>472.0</td>\n",
       "      <td>323</td>\n",
       "      <td>5084</td>\n",
       "      <td>1992</td>\n",
       "    </tr>\n",
       "    <tr>\n",
       "      <th>2</th>\n",
       "      <td>0026431</td>\n",
       "      <td>1992-03-01</td>\n",
       "      <td>NaT</td>\n",
       "      <td>0</td>\n",
       "      <td>21.0</td>\n",
       "      <td>3050.61</td>\n",
       "      <td>145.267143</td>\n",
       "      <td>2006-04-28</td>\n",
       "      <td>CT</td>\n",
       "      <td>2006-10-05</td>\n",
       "      <td>O</td>\n",
       "      <td>CI</td>\n",
       "      <td>CTS</td>\n",
       "      <td>FA</td>\n",
       "      <td>8520</td>\n",
       "      <td>NL</td>\n",
       "      <td>280.0</td>\n",
       "      <td>120</td>\n",
       "      <td>5451</td>\n",
       "      <td>1992</td>\n",
       "    </tr>\n",
       "    <tr>\n",
       "      <th>3</th>\n",
       "      <td>0026443</td>\n",
       "      <td>1992-03-01</td>\n",
       "      <td>NaT</td>\n",
       "      <td>0</td>\n",
       "      <td>156.0</td>\n",
       "      <td>3109.62</td>\n",
       "      <td>19.933462</td>\n",
       "      <td>2007-01-17</td>\n",
       "      <td>CT</td>\n",
       "      <td>2006-12-14</td>\n",
       "      <td>O</td>\n",
       "      <td>CI</td>\n",
       "      <td>CTS</td>\n",
       "      <td>HM</td>\n",
       "      <td>1652</td>\n",
       "      <td>NL</td>\n",
       "      <td>16.0</td>\n",
       "      <td>50</td>\n",
       "      <td>5451</td>\n",
       "      <td>1992</td>\n",
       "    </tr>\n",
       "    <tr>\n",
       "      <th>4</th>\n",
       "      <td>0026444</td>\n",
       "      <td>1992-03-01</td>\n",
       "      <td>NaT</td>\n",
       "      <td>0</td>\n",
       "      <td>157.0</td>\n",
       "      <td>3092.47</td>\n",
       "      <td>19.697261</td>\n",
       "      <td>2007-01-17</td>\n",
       "      <td>CT</td>\n",
       "      <td>2006-06-21</td>\n",
       "      <td>O</td>\n",
       "      <td>CI</td>\n",
       "      <td>CTS</td>\n",
       "      <td>MW</td>\n",
       "      <td>3001</td>\n",
       "      <td>NL</td>\n",
       "      <td>16.0</td>\n",
       "      <td>226</td>\n",
       "      <td>5451</td>\n",
       "      <td>1992</td>\n",
       "    </tr>\n",
       "  </tbody>\n",
       "</table>\n",
       "</div>"
      ],
      "text/plain": [
       "  EXTRELNO EXTRELSTDT EXRELDATEN  Churn  PAMT_COUNT  PAMT_SUM   PAMT_MEAN  \\\n",
       "0  0026419 1992-03-01        NaT      0        69.0   3155.05   45.725362   \n",
       "1  0026430 1992-03-01 2006-01-31      1       146.0   2786.13   19.083082   \n",
       "2  0026431 1992-03-01        NaT      0        21.0   3050.61  145.267143   \n",
       "3  0026443 1992-03-01        NaT      0       156.0   3109.62   19.933462   \n",
       "4  0026444 1992-03-01        NaT      0       157.0   3092.47   19.697261   \n",
       "\n",
       "  RECENT_TRANS CLASCODE   CONTDATE CONTDIREC MEDIUMCODE MNTOPCODE NAME1TITLE  \\\n",
       "0   2007-01-02       CT 2006-07-19         O         CI       CTS         HM   \n",
       "1   2005-10-18       AK 2006-03-16         O         LE       DIS         HM   \n",
       "2   2006-04-28       CT 2006-10-05         O         CI       CTS         FA   \n",
       "3   2007-01-17       CT 2006-12-14         O         CI       CTS         HM   \n",
       "4   2007-01-17       CT 2006-06-21         O         CI       CTS         MW   \n",
       "\n",
       "  POSTCODE LANGUACODE  RECENCY_DAYS_TRANS  RECENCY_DAYS_COMM  REL_DURATION  \\\n",
       "0     2600         NL                31.0                198          5451   \n",
       "1     2040         NL               472.0                323          5084   \n",
       "2     8520         NL               280.0                120          5451   \n",
       "3     1652         NL                16.0                 50          5451   \n",
       "4     3001         NL                16.0                226          5451   \n",
       "\n",
       "   STARTYEAR  \n",
       "0       1992  \n",
       "1       1992  \n",
       "2       1992  \n",
       "3       1992  \n",
       "4       1992  "
      ]
     },
     "execution_count": 22,
     "metadata": {},
     "output_type": "execute_result"
    }
   ],
   "source": [
    "base_df['RECENCY_DAYS_TRANS'] = map(lambda y : y.days , map(lambda x : x , today - base_df['RECENT_TRANS'] ))\n",
    "base_df['RECENCY_DAYS_COMM'] = map(lambda y : y.days , map(lambda x : x , today - base_df['CONTDATE'] ))\n",
    "base_df['REL_DURATION'] = map(lambda z : z.days ,base_df['EXRELDATEN'].fillna(today) - base_df['EXTRELSTDT'])\n",
    "base_df['STARTYEAR'] =  map(lambda x : x.year, base_df['EXTRELSTDT'])\n",
    "base_df.head()"
   ]
  },
  {
   "cell_type": "markdown",
   "metadata": {},
   "source": [
    "## 2.9 Label Encoding Categorical Variables"
   ]
  },
  {
   "cell_type": "code",
   "execution_count": 23,
   "metadata": {},
   "outputs": [
    {
     "data": {
      "text/plain": [
       "Churn                    2\n",
       "LANGUACODE               2\n",
       "CONTDIREC                2\n",
       "NAME1TITLE               6\n",
       "CLASCODE                 6\n",
       "MEDIUMCODE              11\n",
       "STARTYEAR               14\n",
       "MNTOPCODE               18\n",
       "EXRELDATEN             143\n",
       "EXTRELSTDT             166\n",
       "RECENCY_DAYS_COMM      221\n",
       "CONTDATE               221\n",
       "PAMT_COUNT             274\n",
       "RECENT_TRANS           354\n",
       "RECENCY_DAYS_TRANS     354\n",
       "REL_DURATION           604\n",
       "POSTCODE               770\n",
       "PAMT_SUM              3319\n",
       "PAMT_MEAN             4480\n",
       "EXTRELNO              7181\n",
       "dtype: int64"
      ]
     },
     "execution_count": 23,
     "metadata": {},
     "output_type": "execute_result"
    }
   ],
   "source": [
    "base_df.nunique().sort_values()"
   ]
  },
  {
   "cell_type": "code",
   "execution_count": 24,
   "metadata": {},
   "outputs": [],
   "source": [
    "le_cols = ['LANGUACODE','CONTDIREC','CLASCODE','NAME1TITLE','MEDIUMCODE','MNTOPCODE']\n",
    "\n",
    "for col in le_cols:\n",
    "    base_df[col] = LabelEncoder().fit_transform(base_df[col])\n",
    "    "
   ]
  },
  {
   "cell_type": "code",
   "execution_count": 25,
   "metadata": {
    "scrolled": true
   },
   "outputs": [
    {
     "data": {
      "text/html": [
       "<div>\n",
       "<style scoped>\n",
       "    .dataframe tbody tr th:only-of-type {\n",
       "        vertical-align: middle;\n",
       "    }\n",
       "\n",
       "    .dataframe tbody tr th {\n",
       "        vertical-align: top;\n",
       "    }\n",
       "\n",
       "    .dataframe thead th {\n",
       "        text-align: right;\n",
       "    }\n",
       "</style>\n",
       "<table border=\"1\" class=\"dataframe\">\n",
       "  <thead>\n",
       "    <tr style=\"text-align: right;\">\n",
       "      <th></th>\n",
       "      <th>0</th>\n",
       "      <th>1</th>\n",
       "      <th>2</th>\n",
       "    </tr>\n",
       "  </thead>\n",
       "  <tbody>\n",
       "    <tr>\n",
       "      <th>Churn</th>\n",
       "      <td>int32</td>\n",
       "      <td>0</td>\n",
       "      <td>2</td>\n",
       "    </tr>\n",
       "    <tr>\n",
       "      <th>LANGUACODE</th>\n",
       "      <td>int32</td>\n",
       "      <td>0</td>\n",
       "      <td>2</td>\n",
       "    </tr>\n",
       "    <tr>\n",
       "      <th>CONTDIREC</th>\n",
       "      <td>int32</td>\n",
       "      <td>0</td>\n",
       "      <td>2</td>\n",
       "    </tr>\n",
       "    <tr>\n",
       "      <th>CLASCODE</th>\n",
       "      <td>int32</td>\n",
       "      <td>0</td>\n",
       "      <td>6</td>\n",
       "    </tr>\n",
       "    <tr>\n",
       "      <th>NAME1TITLE</th>\n",
       "      <td>int32</td>\n",
       "      <td>0</td>\n",
       "      <td>7</td>\n",
       "    </tr>\n",
       "    <tr>\n",
       "      <th>MEDIUMCODE</th>\n",
       "      <td>int32</td>\n",
       "      <td>0</td>\n",
       "      <td>11</td>\n",
       "    </tr>\n",
       "    <tr>\n",
       "      <th>STARTYEAR</th>\n",
       "      <td>int64</td>\n",
       "      <td>0</td>\n",
       "      <td>14</td>\n",
       "    </tr>\n",
       "    <tr>\n",
       "      <th>MNTOPCODE</th>\n",
       "      <td>int32</td>\n",
       "      <td>0</td>\n",
       "      <td>18</td>\n",
       "    </tr>\n",
       "    <tr>\n",
       "      <th>EXRELDATEN</th>\n",
       "      <td>datetime64[ns]</td>\n",
       "      <td>6675</td>\n",
       "      <td>143</td>\n",
       "    </tr>\n",
       "    <tr>\n",
       "      <th>EXTRELSTDT</th>\n",
       "      <td>datetime64[ns]</td>\n",
       "      <td>0</td>\n",
       "      <td>166</td>\n",
       "    </tr>\n",
       "    <tr>\n",
       "      <th>RECENCY_DAYS_COMM</th>\n",
       "      <td>int64</td>\n",
       "      <td>0</td>\n",
       "      <td>221</td>\n",
       "    </tr>\n",
       "    <tr>\n",
       "      <th>CONTDATE</th>\n",
       "      <td>datetime64[ns]</td>\n",
       "      <td>0</td>\n",
       "      <td>221</td>\n",
       "    </tr>\n",
       "    <tr>\n",
       "      <th>PAMT_COUNT</th>\n",
       "      <td>float64</td>\n",
       "      <td>17</td>\n",
       "      <td>274</td>\n",
       "    </tr>\n",
       "    <tr>\n",
       "      <th>RECENT_TRANS</th>\n",
       "      <td>datetime64[ns]</td>\n",
       "      <td>17</td>\n",
       "      <td>354</td>\n",
       "    </tr>\n",
       "    <tr>\n",
       "      <th>RECENCY_DAYS_TRANS</th>\n",
       "      <td>float64</td>\n",
       "      <td>17</td>\n",
       "      <td>354</td>\n",
       "    </tr>\n",
       "    <tr>\n",
       "      <th>REL_DURATION</th>\n",
       "      <td>int64</td>\n",
       "      <td>0</td>\n",
       "      <td>604</td>\n",
       "    </tr>\n",
       "    <tr>\n",
       "      <th>POSTCODE</th>\n",
       "      <td>object</td>\n",
       "      <td>4</td>\n",
       "      <td>770</td>\n",
       "    </tr>\n",
       "    <tr>\n",
       "      <th>PAMT_SUM</th>\n",
       "      <td>float64</td>\n",
       "      <td>17</td>\n",
       "      <td>3319</td>\n",
       "    </tr>\n",
       "    <tr>\n",
       "      <th>PAMT_MEAN</th>\n",
       "      <td>float64</td>\n",
       "      <td>17</td>\n",
       "      <td>4480</td>\n",
       "    </tr>\n",
       "    <tr>\n",
       "      <th>EXTRELNO</th>\n",
       "      <td>object</td>\n",
       "      <td>0</td>\n",
       "      <td>7181</td>\n",
       "    </tr>\n",
       "  </tbody>\n",
       "</table>\n",
       "</div>"
      ],
      "text/plain": [
       "                                 0     1     2\n",
       "Churn                        int32     0     2\n",
       "LANGUACODE                   int32     0     2\n",
       "CONTDIREC                    int32     0     2\n",
       "CLASCODE                     int32     0     6\n",
       "NAME1TITLE                   int32     0     7\n",
       "MEDIUMCODE                   int32     0    11\n",
       "STARTYEAR                    int64     0    14\n",
       "MNTOPCODE                    int32     0    18\n",
       "EXRELDATEN          datetime64[ns]  6675   143\n",
       "EXTRELSTDT          datetime64[ns]     0   166\n",
       "RECENCY_DAYS_COMM            int64     0   221\n",
       "CONTDATE            datetime64[ns]     0   221\n",
       "PAMT_COUNT                 float64    17   274\n",
       "RECENT_TRANS        datetime64[ns]    17   354\n",
       "RECENCY_DAYS_TRANS         float64    17   354\n",
       "REL_DURATION                 int64     0   604\n",
       "POSTCODE                    object     4   770\n",
       "PAMT_SUM                   float64    17  3319\n",
       "PAMT_MEAN                  float64    17  4480\n",
       "EXTRELNO                    object     0  7181"
      ]
     },
     "execution_count": 25,
     "metadata": {},
     "output_type": "execute_result"
    }
   ],
   "source": [
    "pd.concat([base_df.dtypes,base_df.isna().sum(),base_df.nunique()],axis=1).sort_values(by=[2])"
   ]
  },
  {
   "cell_type": "markdown",
   "metadata": {},
   "source": [
    "## 2.10 Dropping extra variables\n",
    "     - 'EXRELDATEN','EXTRELSTDT' data is captured in 'REL_DURATION'\n",
    "    - 'CONTDATE'data is captured in RECENCY_DAYS_COMM\n",
    "    - 'RECENT_TRANS'data is captured in RECENCY_DAYS_TRANS"
   ]
  },
  {
   "cell_type": "code",
   "execution_count": 26,
   "metadata": {},
   "outputs": [
    {
     "data": {
      "text/plain": [
       "['CLASCODE',\n",
       " 'CONTDIREC',\n",
       " 'Churn',\n",
       " u'EXTRELNO',\n",
       " u'LANGUACODE',\n",
       " 'MEDIUMCODE',\n",
       " 'MNTOPCODE',\n",
       " u'NAME1TITLE',\n",
       " 'PAMT_COUNT',\n",
       " 'PAMT_MEAN',\n",
       " 'PAMT_SUM',\n",
       " u'POSTCODE',\n",
       " 'RECENCY_DAYS_COMM',\n",
       " 'RECENCY_DAYS_TRANS',\n",
       " 'REL_DURATION',\n",
       " 'STARTYEAR']"
      ]
     },
     "execution_count": 26,
     "metadata": {},
     "output_type": "execute_result"
    }
   ],
   "source": [
    "col_drop = ['EXRELDATEN','EXTRELSTDT','CONTDATE','RECENT_TRANS']\n",
    "\n",
    "base_df = base_df.drop(columns=col_drop)\n",
    "sorted(base_df.columns)"
   ]
  },
  {
   "cell_type": "markdown",
   "metadata": {},
   "source": [
    "## 2.11 Preparing communication data"
   ]
  },
  {
   "cell_type": "code",
   "execution_count": 27,
   "metadata": {},
   "outputs": [
    {
     "data": {
      "text/plain": [
       "MEDIUMCODE\n",
       "CI    446428.0\n",
       "LE    259529.0\n",
       "EM     18851.0\n",
       "RM     14872.0\n",
       "TE     12165.0\n",
       "ME      3169.0\n",
       "MR      2391.0\n",
       "FF      2365.0\n",
       "FX      2122.0\n",
       "CA       760.0\n",
       "TM       549.0\n",
       "AF       126.0\n",
       "AC        28.0\n",
       "AM        25.0\n",
       "NA         1.0\n",
       "dtype: float64"
      ]
     },
     "execution_count": 27,
     "metadata": {},
     "output_type": "execute_result"
    },
    {
     "data": {
      "text/plain": [
       "MNTOPCODE\n",
       "CTS    453671.0\n",
       "TAX    132285.0\n",
       "REP     54495.0\n",
       "CAN     20697.0\n",
       "ENR     18556.0\n",
       "ARR     17314.0\n",
       "INF     14220.0\n",
       "COR     11918.0\n",
       "DIS      9693.0\n",
       "FIN      6834.0\n",
       "IRE      6439.0\n",
       "PRA      3314.0\n",
       "VIS      3087.0\n",
       "VOL      2679.0\n",
       "PRO      2145.0\n",
       "FIC      1965.0\n",
       "TVS      1095.0\n",
       "IFF       985.0\n",
       "ALL       937.0\n",
       "CAT       701.0\n",
       "MER       242.0\n",
       "WEB       105.0\n",
       "SPO         2.0\n",
       "TLT         2.0\n",
       "dtype: float64"
      ]
     },
     "execution_count": 27,
     "metadata": {},
     "output_type": "execute_result"
    },
    {
     "data": {
      "text/plain": [
       "CONTDIREC\n",
       "O    733250.0\n",
       "I     30131.0\n",
       "dtype: float64"
      ]
     },
     "execution_count": 27,
     "metadata": {},
     "output_type": "execute_result"
    },
    {
     "data": {
      "text/plain": [
       "CLASCODE\n",
       "CT    458865.0\n",
       "ID    202882.0\n",
       "AN     37955.0\n",
       "RI     23771.0\n",
       "AK     18303.0\n",
       "PM     10619.0\n",
       "RM      8558.0\n",
       "CM      2304.0\n",
       "NS       124.0\n",
       "dtype: float64"
      ]
     },
     "execution_count": 27,
     "metadata": {},
     "output_type": "execute_result"
    }
   ],
   "source": [
    "pd.DataFrame(communication.pivot_table(index='EXTRELNO', columns='MEDIUMCODE', values='CLASCODE', aggfunc='count')).fillna(0).sum().sort_values(ascending=False)\n",
    "pd.DataFrame(communication.pivot_table(index='EXTRELNO', columns='MNTOPCODE', values='CLASCODE', aggfunc='count')).fillna(0).sum().sort_values(ascending=False)\n",
    "pd.DataFrame(communication.pivot_table(index='EXTRELNO', columns='CONTDIREC', values='CLASCODE', aggfunc='count')).fillna(0).sum().sort_values(ascending=False)\n",
    "pd.DataFrame(communication.pivot_table(index='EXTRELNO', columns='CLASCODE', values='MEDIUMCODE', aggfunc='count')).fillna(0).sum().sort_values(ascending=False)\n"
   ]
  },
  {
   "cell_type": "markdown",
   "metadata": {},
   "source": [
    "Selecting CLASCODE categories and MEDIUMCODE categories with maximum count when grouped by different columns of communication data"
   ]
  },
  {
   "cell_type": "code",
   "execution_count": 28,
   "metadata": {},
   "outputs": [],
   "source": [
    "MEDIUMCODE_CI_LE = pd.DataFrame(communication.pivot_table(index='EXTRELNO', columns='MEDIUMCODE', values='CLASCODE', aggfunc='count'))[['CI','LE']].fillna(0)\n",
    "MNTOPCODE_CTS_TAX = pd.DataFrame(communication.pivot_table(index='EXTRELNO', columns='MNTOPCODE', values='CLASCODE', aggfunc='count'))[['CTS','TAX']].fillna(0)\n",
    "CONTDIREC_O_I = pd.DataFrame(communication.pivot_table(index='EXTRELNO', columns='CONTDIREC', values='CLASCODE', aggfunc='count'))[['O','I']].fillna(0)\n",
    "CLASCODE_CT_ID = pd.DataFrame(communication.pivot_table(index='EXTRELNO', columns='CLASCODE', values='MEDIUMCODE', aggfunc='count'))[['CT','ID']].fillna(0)\n"
   ]
  },
  {
   "cell_type": "markdown",
   "metadata": {},
   "source": [
    "## 2.12 Merging communication data"
   ]
  },
  {
   "cell_type": "code",
   "execution_count": 29,
   "metadata": {},
   "outputs": [],
   "source": [
    "commmunication2 = pd.concat([MEDIUMCODE_CI_LE,MNTOPCODE_CTS_TAX,CONTDIREC_O_I,CLASCODE_CT_ID],axis=1)\n",
    "commmunication2.columns = ['MEDIUMCODE_CI','MEDIUMCODE_LE','MNTOPCODE_CTS','MNTOPCODE_TAX','CONTDIREC_O','CONTDIREC_I','CLASCODE_CT','CLASCODE_ID']\n",
    "commmunication2 = commmunication2.reset_index()\n",
    "base_df2 = pd.merge(base_df,commmunication2)"
   ]
  },
  {
   "cell_type": "code",
   "execution_count": 30,
   "metadata": {},
   "outputs": [
    {
     "data": {
      "text/plain": [
       "(7181, 24)"
      ]
     },
     "execution_count": 30,
     "metadata": {},
     "output_type": "execute_result"
    }
   ],
   "source": [
    "base_df2.shape"
   ]
  },
  {
   "cell_type": "code",
   "execution_count": 31,
   "metadata": {},
   "outputs": [
    {
     "data": {
      "text/html": [
       "<div>\n",
       "<style scoped>\n",
       "    .dataframe tbody tr th:only-of-type {\n",
       "        vertical-align: middle;\n",
       "    }\n",
       "\n",
       "    .dataframe tbody tr th {\n",
       "        vertical-align: top;\n",
       "    }\n",
       "\n",
       "    .dataframe thead th {\n",
       "        text-align: right;\n",
       "    }\n",
       "</style>\n",
       "<table border=\"1\" class=\"dataframe\">\n",
       "  <thead>\n",
       "    <tr style=\"text-align: right;\">\n",
       "      <th></th>\n",
       "      <th>0</th>\n",
       "      <th>1</th>\n",
       "      <th>2</th>\n",
       "    </tr>\n",
       "  </thead>\n",
       "  <tbody>\n",
       "    <tr>\n",
       "      <th>LANGUACODE</th>\n",
       "      <td>int32</td>\n",
       "      <td>0</td>\n",
       "      <td>2</td>\n",
       "    </tr>\n",
       "    <tr>\n",
       "      <th>Churn</th>\n",
       "      <td>int32</td>\n",
       "      <td>0</td>\n",
       "      <td>2</td>\n",
       "    </tr>\n",
       "    <tr>\n",
       "      <th>CONTDIREC</th>\n",
       "      <td>int32</td>\n",
       "      <td>0</td>\n",
       "      <td>2</td>\n",
       "    </tr>\n",
       "    <tr>\n",
       "      <th>CLASCODE</th>\n",
       "      <td>int32</td>\n",
       "      <td>0</td>\n",
       "      <td>6</td>\n",
       "    </tr>\n",
       "    <tr>\n",
       "      <th>NAME1TITLE</th>\n",
       "      <td>int32</td>\n",
       "      <td>0</td>\n",
       "      <td>7</td>\n",
       "    </tr>\n",
       "    <tr>\n",
       "      <th>MEDIUMCODE</th>\n",
       "      <td>int32</td>\n",
       "      <td>0</td>\n",
       "      <td>11</td>\n",
       "    </tr>\n",
       "    <tr>\n",
       "      <th>STARTYEAR</th>\n",
       "      <td>int64</td>\n",
       "      <td>0</td>\n",
       "      <td>14</td>\n",
       "    </tr>\n",
       "    <tr>\n",
       "      <th>MNTOPCODE</th>\n",
       "      <td>int32</td>\n",
       "      <td>0</td>\n",
       "      <td>18</td>\n",
       "    </tr>\n",
       "    <tr>\n",
       "      <th>MNTOPCODE_TAX</th>\n",
       "      <td>float64</td>\n",
       "      <td>0</td>\n",
       "      <td>22</td>\n",
       "    </tr>\n",
       "    <tr>\n",
       "      <th>CONTDIREC_I</th>\n",
       "      <td>float64</td>\n",
       "      <td>0</td>\n",
       "      <td>33</td>\n",
       "    </tr>\n",
       "    <tr>\n",
       "      <th>CLASCODE_ID</th>\n",
       "      <td>float64</td>\n",
       "      <td>0</td>\n",
       "      <td>45</td>\n",
       "    </tr>\n",
       "    <tr>\n",
       "      <th>MEDIUMCODE_LE</th>\n",
       "      <td>float64</td>\n",
       "      <td>0</td>\n",
       "      <td>60</td>\n",
       "    </tr>\n",
       "    <tr>\n",
       "      <th>MEDIUMCODE_CI</th>\n",
       "      <td>float64</td>\n",
       "      <td>0</td>\n",
       "      <td>175</td>\n",
       "    </tr>\n",
       "    <tr>\n",
       "      <th>MNTOPCODE_CTS</th>\n",
       "      <td>float64</td>\n",
       "      <td>0</td>\n",
       "      <td>179</td>\n",
       "    </tr>\n",
       "    <tr>\n",
       "      <th>CLASCODE_CT</th>\n",
       "      <td>float64</td>\n",
       "      <td>0</td>\n",
       "      <td>180</td>\n",
       "    </tr>\n",
       "    <tr>\n",
       "      <th>CONTDIREC_O</th>\n",
       "      <td>float64</td>\n",
       "      <td>0</td>\n",
       "      <td>205</td>\n",
       "    </tr>\n",
       "    <tr>\n",
       "      <th>RECENCY_DAYS_COMM</th>\n",
       "      <td>int64</td>\n",
       "      <td>0</td>\n",
       "      <td>221</td>\n",
       "    </tr>\n",
       "    <tr>\n",
       "      <th>PAMT_COUNT</th>\n",
       "      <td>float64</td>\n",
       "      <td>17</td>\n",
       "      <td>274</td>\n",
       "    </tr>\n",
       "    <tr>\n",
       "      <th>RECENCY_DAYS_TRANS</th>\n",
       "      <td>float64</td>\n",
       "      <td>17</td>\n",
       "      <td>354</td>\n",
       "    </tr>\n",
       "    <tr>\n",
       "      <th>REL_DURATION</th>\n",
       "      <td>int64</td>\n",
       "      <td>0</td>\n",
       "      <td>604</td>\n",
       "    </tr>\n",
       "    <tr>\n",
       "      <th>POSTCODE</th>\n",
       "      <td>object</td>\n",
       "      <td>4</td>\n",
       "      <td>770</td>\n",
       "    </tr>\n",
       "    <tr>\n",
       "      <th>PAMT_SUM</th>\n",
       "      <td>float64</td>\n",
       "      <td>17</td>\n",
       "      <td>3319</td>\n",
       "    </tr>\n",
       "    <tr>\n",
       "      <th>PAMT_MEAN</th>\n",
       "      <td>float64</td>\n",
       "      <td>17</td>\n",
       "      <td>4480</td>\n",
       "    </tr>\n",
       "    <tr>\n",
       "      <th>EXTRELNO</th>\n",
       "      <td>object</td>\n",
       "      <td>0</td>\n",
       "      <td>7181</td>\n",
       "    </tr>\n",
       "  </tbody>\n",
       "</table>\n",
       "</div>"
      ],
      "text/plain": [
       "                          0   1     2\n",
       "LANGUACODE            int32   0     2\n",
       "Churn                 int32   0     2\n",
       "CONTDIREC             int32   0     2\n",
       "CLASCODE              int32   0     6\n",
       "NAME1TITLE            int32   0     7\n",
       "MEDIUMCODE            int32   0    11\n",
       "STARTYEAR             int64   0    14\n",
       "MNTOPCODE             int32   0    18\n",
       "MNTOPCODE_TAX       float64   0    22\n",
       "CONTDIREC_I         float64   0    33\n",
       "CLASCODE_ID         float64   0    45\n",
       "MEDIUMCODE_LE       float64   0    60\n",
       "MEDIUMCODE_CI       float64   0   175\n",
       "MNTOPCODE_CTS       float64   0   179\n",
       "CLASCODE_CT         float64   0   180\n",
       "CONTDIREC_O         float64   0   205\n",
       "RECENCY_DAYS_COMM     int64   0   221\n",
       "PAMT_COUNT          float64  17   274\n",
       "RECENCY_DAYS_TRANS  float64  17   354\n",
       "REL_DURATION          int64   0   604\n",
       "POSTCODE             object   4   770\n",
       "PAMT_SUM            float64  17  3319\n",
       "PAMT_MEAN           float64  17  4480\n",
       "EXTRELNO             object   0  7181"
      ]
     },
     "execution_count": 31,
     "metadata": {},
     "output_type": "execute_result"
    }
   ],
   "source": [
    "pd.concat([base_df2.dtypes,base_df2.isna().sum(),base_df2.nunique()],axis=1).sort_values(by=[2])"
   ]
  },
  {
   "cell_type": "markdown",
   "metadata": {},
   "source": [
    "# 2.13 Missing Value Imputation"
   ]
  },
  {
   "cell_type": "code",
   "execution_count": 34,
   "metadata": {},
   "outputs": [
    {
     "data": {
      "text/plain": [
       "<matplotlib.axes._subplots.AxesSubplot at 0x2b9afd30>"
      ]
     },
     "execution_count": 34,
     "metadata": {},
     "output_type": "execute_result"
    },
    {
     "data": {
      "image/png": "[encoded data removed]",
      "text/plain": [
       "<Figure size 432x288 with 1 Axes>"
      ]
     },
     "metadata": {
      "needs_background": "light"
     },
     "output_type": "display_data"
    },
    {
     "data": {
      "text/plain": [
       "<matplotlib.axes._subplots.AxesSubplot at 0x2b62cd68>"
      ]
     },
     "execution_count": 34,
     "metadata": {},
     "output_type": "execute_result"
    },
    {
     "data": {
      "image/png": "[encoded data removed]",
      "text/plain": [
       "<Figure size 432x288 with 1 Axes>"
      ]
     },
     "metadata": {
      "needs_background": "light"
     },
     "output_type": "display_data"
    },
    {
     "data": {
      "text/plain": [
       "<matplotlib.axes._subplots.AxesSubplot at 0x28d754e0>"
      ]
     },
     "execution_count": 34,
     "metadata": {},
     "output_type": "execute_result"
    },
    {
     "data": {
      "image/png": "[encoded data removed]",
      "text/plain": [
       "<Figure size 432x288 with 1 Axes>"
      ]
     },
     "metadata": {
      "needs_background": "light"
     },
     "output_type": "display_data"
    }
   ],
   "source": [
    "sns.distplot(base_df2.PAMT_COUNT[base_df2.PAMT_COUNT.notna()])\n",
    "plt.show()\n",
    "sns.distplot(base_df2.PAMT_MEAN[base_df2.PAMT_MEAN.notna()])\n",
    "plt.show()\n",
    "sns.distplot(base_df2.PAMT_SUM[base_df2.PAMT_SUM.notna()])"
   ]
  },
  {
   "cell_type": "markdown",
   "metadata": {},
   "source": [
    "Since data is skewed and unique values are high using median to impute missing data"
   ]
  },
  {
   "cell_type": "code",
   "execution_count": 35,
   "metadata": {},
   "outputs": [],
   "source": [
    "base_df2.PAMT_COUNT = base_df2.PAMT_COUNT.fillna(base_df2.PAMT_COUNT.median())\n",
    "base_df2.PAMT_MEAN = base_df2.PAMT_MEAN.fillna(base_df2.PAMT_MEAN.median())\n",
    "base_df2.PAMT_SUM = base_df2.PAMT_SUM.fillna(base_df2.PAMT_SUM.median())"
   ]
  },
  {
   "cell_type": "markdown",
   "metadata": {},
   "source": [
    "Imputing -1 where RECENCY_DAYS_TRANS is null which implies transaction has never been made."
   ]
  },
  {
   "cell_type": "code",
   "execution_count": 36,
   "metadata": {},
   "outputs": [],
   "source": [
    "base_df2['RECENCY_DAYS_TRANS'] = base_df2['RECENCY_DAYS_TRANS'].fillna(-1)"
   ]
  },
  {
   "cell_type": "markdown",
   "metadata": {},
   "source": [
    "POSTCODE has few postcodes containing string or string-number so formatting them and imputing missing values with zero"
   ]
  },
  {
   "cell_type": "code",
   "execution_count": 83,
   "metadata": {},
   "outputs": [],
   "source": [
    "base_df2['POSTCODE'] = base_df2['POSTCODE'].fillna(0)\n",
    "\n",
    "def check_int(x):\n",
    "    try:\n",
    "        x = int(x)\n",
    "        return(x)\n",
    "    except Exception as ex:\n",
    "        try:\n",
    "            tmp = ('').join([char for char in list(str(x)) if char.isdigit()])\n",
    "            x = int(tmp)\n",
    "            return(x)\n",
    "        except Exception as ex:\n",
    "            print('Unexpected Error : '+ex.message,x)\n",
    "            return(x)\n",
    "        \n",
    "base_df2['POSTCODE'] = base_df2['POSTCODE'].apply(lambda x : check_int(x)) "
   ]
  },
  {
   "cell_type": "code",
   "execution_count": 84,
   "metadata": {
    "scrolled": true
   },
   "outputs": [],
   "source": [
    "convert_int_col = ['CLASCODE',\n",
    " 'CLASCODE_CT',\n",
    " 'CLASCODE_ID',\n",
    " 'CONTDIREC',\n",
    " 'CONTDIREC_I',\n",
    " 'CONTDIREC_O',\n",
    " 'Churn',\n",
    " u'EXTRELNO',\n",
    " u'LANGUACODE',\n",
    " 'MEDIUMCODE',\n",
    " 'MEDIUMCODE_CI',\n",
    " 'MEDIUMCODE_LE',\n",
    " 'MNTOPCODE',\n",
    " 'MNTOPCODE_CTS',\n",
    " 'MNTOPCODE_TAX',\n",
    " u'NAME1TITLE',\n",
    " 'PAMT_COUNT',\n",
    " u'POSTCODE',\n",
    " 'RECENCY_DAYS_COMM',\n",
    " 'RECENCY_DAYS_TRANS',\n",
    " 'REL_DURATION',\n",
    " 'STARTYEAR']\n",
    "for col in convert_int_col:\n",
    "    try:\n",
    "        base_df2[col] = base_df2[col].astype(int)\n",
    "    except Exception as ex:\n",
    "        ex.message\n",
    "        col"
   ]
  },
  {
   "cell_type": "markdown",
   "metadata": {},
   "source": [
    "Dropping EXTRELNO as it contains unique values for each row and won't be useful for model"
   ]
  },
  {
   "cell_type": "code",
   "execution_count": 85,
   "metadata": {},
   "outputs": [],
   "source": [
    "base_df2 = base_df2.drop(columns=['EXTRELNO'])"
   ]
  },
  {
   "cell_type": "markdown",
   "metadata": {},
   "source": [
    "# 3. Building Models"
   ]
  },
  {
   "cell_type": "markdown",
   "metadata": {},
   "source": [
    "## 3.1 Splitting Data into Train, Validation and Test data"
   ]
  },
  {
   "cell_type": "markdown",
   "metadata": {},
   "source": [
    "- Divide your data into different time windows. \n",
    "- For example:If you have data for 5 years, \n",
    "    - Use the first 3 years to train models\n",
    "    - validate on the 4th year and pick your best model\n",
    "    - The 5th year’s data will be your hold-out sample for determining out-of-sample accuracy"
   ]
  },
  {
   "cell_type": "code",
   "execution_count": 86,
   "metadata": {},
   "outputs": [
    {
     "data": {
      "text/plain": [
       "('Current Year : ', 2007)"
      ]
     },
     "execution_count": 86,
     "metadata": {},
     "output_type": "execute_result"
    },
    {
     "data": {
      "text/plain": [
       "('Minimum Start Year  : ', 1992)"
      ]
     },
     "execution_count": 86,
     "metadata": {},
     "output_type": "execute_result"
    },
    {
     "data": {
      "text/plain": [
       "('Training period : ', [1992, 2001])"
      ]
     },
     "execution_count": 86,
     "metadata": {},
     "output_type": "execute_result"
    },
    {
     "data": {
      "text/plain": [
       "('Validation period : ', [2002, 2004])"
      ]
     },
     "execution_count": 86,
     "metadata": {},
     "output_type": "execute_result"
    },
    {
     "data": {
      "text/plain": [
       "('Test period : ', [2005, 2007])"
      ]
     },
     "execution_count": 86,
     "metadata": {},
     "output_type": "execute_result"
    }
   ],
   "source": [
    "'Current Year : ',today.year\n",
    "'Minimum Start Year  : ',base_df2['STARTYEAR'].min()\n",
    "\n",
    "totalPeriod = today.year - base_df2['STARTYEAR'].min()\n",
    "\n",
    "train_yr = base_df2['STARTYEAR'].min() + (totalPeriod)*3/5\n",
    "'Training period : ',[base_df2['STARTYEAR'].min(),train_yr]\n",
    "\n",
    "validate_yr = train_yr + (totalPeriod)*1/5\n",
    "'Validation period : ',[train_yr+1,validate_yr]\n",
    "\n",
    "test_yr = validate_yr + (totalPeriod)*1/5\n",
    "'Test period : ',[validate_yr+1,test_yr]\n",
    "\n",
    "train = base_df2[ (base_df2.STARTYEAR <= train_yr)]\n",
    "validation = base_df2[(base_df2.STARTYEAR > train_yr) & (base_df2.STARTYEAR <= validate_yr)]\n",
    "test = base_df2[base_df2.STARTYEAR > validate_yr]\n"
   ]
  },
  {
   "cell_type": "markdown",
   "metadata": {},
   "source": [
    "## 3.2 Splitting Target and Dependent variables"
   ]
  },
  {
   "cell_type": "code",
   "execution_count": 87,
   "metadata": {},
   "outputs": [],
   "source": [
    "X_train = train.drop(['Churn'], axis=1)\n",
    "Y_train = train.Churn\n",
    "\n",
    "X_validation = validation.drop(['Churn'], axis=1)\n",
    "Y_validation = validation.Churn\n",
    "\n",
    "X_test = test.drop(['Churn'], axis=1)\n",
    "Y_test = test.Churn"
   ]
  },
  {
   "cell_type": "markdown",
   "metadata": {},
   "source": [
    "## 3.3 Scaling data for different models"
   ]
  },
  {
   "cell_type": "code",
   "execution_count": 88,
   "metadata": {},
   "outputs": [],
   "source": [
    "for data in [X_train,X_validation,X_test] :\n",
    "    data = data.astype(np.float)\n",
    "    scaler = StandardScaler()\n",
    "    data = scaler.fit_transform(data)\n"
   ]
  },
  {
   "cell_type": "markdown",
   "metadata": {},
   "source": [
    "## 3.4 Applying Models\n",
    "\n",
    "- Suuport Vector Machines\n",
    "    - It is a discriminative classifier formally defined by a separating hyperplane. In other words, given labeled training data (supervised learning), the algorithm outputs an optimal hyperplane which categorizes new examples.\n",
    "<br><br> \n",
    "- Random Forest Classifier\n",
    "    - It creates a set of decision trees from randomly selected subset of training set. It then aggregates the votes from different decision trees to decide the final class of the test object.\n",
    "<br><br> \n",
    "- Logistic Regression\n",
    "    - Logistic regression models the probability of the default class of dependent variable\n",
    "<br><br>     \n",
    "- Gradient Boost Classifier\n",
    "    - It repetitively leverage the patterns in residuals and strengthen a model with weak predictions and make it better. Once we reach a stage that residuals do not have any pattern that could be modeled, we can stop modeling residuals (otherwise it might lead to overfitting). Algorithmically, we are minimizing our loss function, such that test loss reach its minima"
   ]
  },
  {
   "cell_type": "code",
   "execution_count": 89,
   "metadata": {},
   "outputs": [],
   "source": [
    "# Applying different models and storing metrics in scores dataframe\n",
    "\n",
    "# Evaluates different metrics based on target variable and predicted values\n",
    "def get_scores(classifiers,**kwargs):\n",
    "    scores = pd.DataFrame()\n",
    "    \n",
    "    for name,classifier in classifiers.items():\n",
    "        clf = classifier(**kwargs)\n",
    "        clf.fit(X_train,Y_train)\n",
    "        \n",
    "        col = pd.Series()\n",
    "        types = {'Train' : [Y_train,clf.predict(X_train)],'Validation' : [Y_validation,clf.predict(X_validation)],'Test' : [Y_test,clf.predict(X_test)]}\n",
    "        for type_name,values in types.items():\n",
    "            col['Confusion matrix'] = confusion_matrix(values[0],values[1])\n",
    "            col['Accuracy score'] =accuracy_score(values[0],values[1])\n",
    "            col['F1 score'] = f1_score(values[0],values[1],average='binary')\n",
    "            col['ROC AUC Score'] = roc_auc_score(values[0],values[1])\n",
    "            col['Average Precision score'] = average_precision_score(values[0],values[1])\n",
    "            col['Recall Score'] = recall_score(values[0],values[1])\n",
    "\n",
    "            scores[name+'_'+type_name] =  col\n",
    "    return(scores)"
   ]
  },
  {
   "cell_type": "code",
   "execution_count": 90,
   "metadata": {},
   "outputs": [
    {
     "name": "stderr",
     "output_type": "stream",
     "text": [
      "C:\\Users\\Shriya\\Software\\Anaconda2\\lib\\site-packages\\sklearn\\svm\\base.py:196: FutureWarning: The default value of gamma will change from 'auto' to 'scale' in version 0.22 to account better for unscaled features. Set gamma explicitly to 'auto' or 'scale' to avoid this warning.\n",
      "  \"avoid this warning.\", FutureWarning)\n",
      "C:\\Users\\Shriya\\Software\\Anaconda2\\lib\\site-packages\\sklearn\\metrics\\classification.py:1143: UndefinedMetricWarning: F-score is ill-defined and being set to 0.0 due to no predicted samples.\n",
      "  'precision', 'predicted', average, warn_for)\n",
      "C:\\Users\\Shriya\\Software\\Anaconda2\\lib\\site-packages\\sklearn\\metrics\\classification.py:1143: UndefinedMetricWarning: F-score is ill-defined and being set to 0.0 due to no predicted samples.\n",
      "  'precision', 'predicted', average, warn_for)\n",
      "C:\\Users\\Shriya\\Software\\Anaconda2\\lib\\site-packages\\sklearn\\linear_model\\logistic.py:433: FutureWarning: Default solver will be changed to 'lbfgs' in 0.22. Specify a solver to silence this warning.\n",
      "  FutureWarning)\n",
      "C:\\Users\\Shriya\\Software\\Anaconda2\\lib\\site-packages\\sklearn\\ensemble\\forest.py:246: FutureWarning: The default value of n_estimators will change from 10 in version 0.20 to 100 in 0.22.\n",
      "  \"10 in version 0.20 to 100 in 0.22.\", FutureWarning)\n"
     ]
    }
   ],
   "source": [
    "classifiers = {'Support Vector Machines':SVC,\\\n",
    "              'Random Forest Classifier':RFC,\\\n",
    "              'K Neighbors Classifier':KNC,\\\n",
    "              'Logistic Regression':LR,\\\n",
    "              'Gradient Boosting Classifier':GBC}\n",
    "\n",
    "scores = get_scores(classifiers)\n",
    "scores = scores.T"
   ]
  },
  {
   "cell_type": "markdown",
   "metadata": {},
   "source": [
    "## 3.5 Comparing Metrics"
   ]
  },
  {
   "cell_type": "markdown",
   "metadata": {},
   "source": [
    "**Evaluation Metrics :**\n",
    "- Accuracy Score\n",
    "    - Accuracy = TP+TN/TP+FP+FN+TN\n",
    "<br><br>\n",
    "- F1 Score\n",
    "    - F1 Score = 2*(Recall * Precision) / (Recall + Precision)\n",
    "<br><br>\n",
    "- ROC AUC Score\n",
    "    - The Receiver Operating Characteristic (ROC) curve is a plot of the true positive rate (% bads rejected) vs. the false positive rate (% goods rejected) found over a set of predictions.\n",
    "    - TPR = TP/(TP + FN) \n",
    "    - FPR = FP/(FP + TN)\n",
    "    - (ROC AUC) is just the area under the ROC curve. The higher it is, the better the model is.\n",
    "<br><br>\n",
    "- Average Precision Score\n",
    "    - Precision = TP/TP+FP\n",
    "<br><br>\n",
    "- Recall Score\n",
    "    - Recall = TP/TP+FN"
   ]
  },
  {
   "cell_type": "code",
   "execution_count": 91,
   "metadata": {},
   "outputs": [
    {
     "data": {
      "text/html": [
       "<div>\n",
       "<style scoped>\n",
       "    .dataframe tbody tr th:only-of-type {\n",
       "        vertical-align: middle;\n",
       "    }\n",
       "\n",
       "    .dataframe tbody tr th {\n",
       "        vertical-align: top;\n",
       "    }\n",
       "\n",
       "    .dataframe thead th {\n",
       "        text-align: right;\n",
       "    }\n",
       "</style>\n",
       "<table border=\"1\" class=\"dataframe\">\n",
       "  <thead>\n",
       "    <tr style=\"text-align: right;\">\n",
       "      <th></th>\n",
       "      <th>Confusion matrix</th>\n",
       "      <th>Accuracy score</th>\n",
       "      <th>F1 score</th>\n",
       "      <th>ROC AUC Score</th>\n",
       "      <th>Average Precision score</th>\n",
       "      <th>Recall Score</th>\n",
       "    </tr>\n",
       "  </thead>\n",
       "  <tbody>\n",
       "    <tr>\n",
       "      <th>Support Vector Machines_Train</th>\n",
       "      <td>[[5087, 0], [0, 350]]</td>\n",
       "      <td>1</td>\n",
       "      <td>1</td>\n",
       "      <td>1</td>\n",
       "      <td>1</td>\n",
       "      <td>1</td>\n",
       "    </tr>\n",
       "    <tr>\n",
       "      <th>Random Forest Classifier_Train</th>\n",
       "      <td>[[5087, 0], [11, 339]]</td>\n",
       "      <td>0.997977</td>\n",
       "      <td>0.984035</td>\n",
       "      <td>0.984286</td>\n",
       "      <td>0.970595</td>\n",
       "      <td>0.968571</td>\n",
       "    </tr>\n",
       "    <tr>\n",
       "      <th>Gradient Boosting Classifier_Train</th>\n",
       "      <td>[[5085, 2], [12, 338]]</td>\n",
       "      <td>0.997425</td>\n",
       "      <td>0.97971</td>\n",
       "      <td>0.982661</td>\n",
       "      <td>0.962241</td>\n",
       "      <td>0.965714</td>\n",
       "    </tr>\n",
       "    <tr>\n",
       "      <th>Logistic Regression_Train</th>\n",
       "      <td>[[5038, 49], [155, 195]]</td>\n",
       "      <td>0.962479</td>\n",
       "      <td>0.656566</td>\n",
       "      <td>0.773755</td>\n",
       "      <td>0.473766</td>\n",
       "      <td>0.557143</td>\n",
       "    </tr>\n",
       "    <tr>\n",
       "      <th>K Neighbors Classifier_Train</th>\n",
       "      <td>[[5067, 20], [193, 157]]</td>\n",
       "      <td>0.960824</td>\n",
       "      <td>0.595825</td>\n",
       "      <td>0.72232</td>\n",
       "      <td>0.433383</td>\n",
       "      <td>0.448571</td>\n",
       "    </tr>\n",
       "  </tbody>\n",
       "</table>\n",
       "</div>"
      ],
      "text/plain": [
       "                                            Confusion matrix Accuracy score  \\\n",
       "Support Vector Machines_Train          [[5087, 0], [0, 350]]              1   \n",
       "Random Forest Classifier_Train        [[5087, 0], [11, 339]]       0.997977   \n",
       "Gradient Boosting Classifier_Train    [[5085, 2], [12, 338]]       0.997425   \n",
       "Logistic Regression_Train           [[5038, 49], [155, 195]]       0.962479   \n",
       "K Neighbors Classifier_Train        [[5067, 20], [193, 157]]       0.960824   \n",
       "\n",
       "                                    F1 score ROC AUC Score  \\\n",
       "Support Vector Machines_Train              1             1   \n",
       "Random Forest Classifier_Train      0.984035      0.984286   \n",
       "Gradient Boosting Classifier_Train   0.97971      0.982661   \n",
       "Logistic Regression_Train           0.656566      0.773755   \n",
       "K Neighbors Classifier_Train        0.595825       0.72232   \n",
       "\n",
       "                                   Average Precision score Recall Score  \n",
       "Support Vector Machines_Train                            1            1  \n",
       "Random Forest Classifier_Train                    0.970595     0.968571  \n",
       "Gradient Boosting Classifier_Train                0.962241     0.965714  \n",
       "Logistic Regression_Train                         0.473766     0.557143  \n",
       "K Neighbors Classifier_Train                      0.433383     0.448571  "
      ]
     },
     "execution_count": 91,
     "metadata": {},
     "output_type": "execute_result"
    },
    {
     "data": {
      "text/html": [
       "<div>\n",
       "<style scoped>\n",
       "    .dataframe tbody tr th:only-of-type {\n",
       "        vertical-align: middle;\n",
       "    }\n",
       "\n",
       "    .dataframe tbody tr th {\n",
       "        vertical-align: top;\n",
       "    }\n",
       "\n",
       "    .dataframe thead th {\n",
       "        text-align: right;\n",
       "    }\n",
       "</style>\n",
       "<table border=\"1\" class=\"dataframe\">\n",
       "  <thead>\n",
       "    <tr style=\"text-align: right;\">\n",
       "      <th></th>\n",
       "      <th>Confusion matrix</th>\n",
       "      <th>Accuracy score</th>\n",
       "      <th>F1 score</th>\n",
       "      <th>ROC AUC Score</th>\n",
       "      <th>Average Precision score</th>\n",
       "      <th>Recall Score</th>\n",
       "    </tr>\n",
       "  </thead>\n",
       "  <tbody>\n",
       "    <tr>\n",
       "      <th>Gradient Boosting Classifier_Validation</th>\n",
       "      <td>[[1110, 9], [11, 85]]</td>\n",
       "      <td>0.983539</td>\n",
       "      <td>0.894737</td>\n",
       "      <td>0.938687</td>\n",
       "      <td>0.809696</td>\n",
       "      <td>0.885417</td>\n",
       "    </tr>\n",
       "    <tr>\n",
       "      <th>Random Forest Classifier_Validation</th>\n",
       "      <td>[[1112, 7], [13, 83]]</td>\n",
       "      <td>0.983539</td>\n",
       "      <td>0.892473</td>\n",
       "      <td>0.929164</td>\n",
       "      <td>0.808038</td>\n",
       "      <td>0.864583</td>\n",
       "    </tr>\n",
       "    <tr>\n",
       "      <th>Logistic Regression_Validation</th>\n",
       "      <td>[[1100, 19], [47, 49]]</td>\n",
       "      <td>0.945679</td>\n",
       "      <td>0.597561</td>\n",
       "      <td>0.746719</td>\n",
       "      <td>0.406483</td>\n",
       "      <td>0.510417</td>\n",
       "    </tr>\n",
       "    <tr>\n",
       "      <th>Support Vector Machines_Validation</th>\n",
       "      <td>[[1119, 0], [96, 0]]</td>\n",
       "      <td>0.920988</td>\n",
       "      <td>0</td>\n",
       "      <td>0.5</td>\n",
       "      <td>0.0790123</td>\n",
       "      <td>0</td>\n",
       "    </tr>\n",
       "    <tr>\n",
       "      <th>K Neighbors Classifier_Validation</th>\n",
       "      <td>[[719, 400], [33, 63]]</td>\n",
       "      <td>0.643621</td>\n",
       "      <td>0.225403</td>\n",
       "      <td>0.649394</td>\n",
       "      <td>0.116456</td>\n",
       "      <td>0.65625</td>\n",
       "    </tr>\n",
       "  </tbody>\n",
       "</table>\n",
       "</div>"
      ],
      "text/plain": [
       "                                               Confusion matrix  \\\n",
       "Gradient Boosting Classifier_Validation   [[1110, 9], [11, 85]]   \n",
       "Random Forest Classifier_Validation       [[1112, 7], [13, 83]]   \n",
       "Logistic Regression_Validation           [[1100, 19], [47, 49]]   \n",
       "Support Vector Machines_Validation         [[1119, 0], [96, 0]]   \n",
       "K Neighbors Classifier_Validation        [[719, 400], [33, 63]]   \n",
       "\n",
       "                                        Accuracy score  F1 score  \\\n",
       "Gradient Boosting Classifier_Validation       0.983539  0.894737   \n",
       "Random Forest Classifier_Validation           0.983539  0.892473   \n",
       "Logistic Regression_Validation                0.945679  0.597561   \n",
       "Support Vector Machines_Validation            0.920988         0   \n",
       "K Neighbors Classifier_Validation             0.643621  0.225403   \n",
       "\n",
       "                                        ROC AUC Score Average Precision score  \\\n",
       "Gradient Boosting Classifier_Validation      0.938687                0.809696   \n",
       "Random Forest Classifier_Validation          0.929164                0.808038   \n",
       "Logistic Regression_Validation               0.746719                0.406483   \n",
       "Support Vector Machines_Validation                0.5               0.0790123   \n",
       "K Neighbors Classifier_Validation            0.649394                0.116456   \n",
       "\n",
       "                                        Recall Score  \n",
       "Gradient Boosting Classifier_Validation     0.885417  \n",
       "Random Forest Classifier_Validation         0.864583  \n",
       "Logistic Regression_Validation              0.510417  \n",
       "Support Vector Machines_Validation                 0  \n",
       "K Neighbors Classifier_Validation            0.65625  "
      ]
     },
     "execution_count": 91,
     "metadata": {},
     "output_type": "execute_result"
    },
    {
     "data": {
      "text/html": [
       "<div>\n",
       "<style scoped>\n",
       "    .dataframe tbody tr th:only-of-type {\n",
       "        vertical-align: middle;\n",
       "    }\n",
       "\n",
       "    .dataframe tbody tr th {\n",
       "        vertical-align: top;\n",
       "    }\n",
       "\n",
       "    .dataframe thead th {\n",
       "        text-align: right;\n",
       "    }\n",
       "</style>\n",
       "<table border=\"1\" class=\"dataframe\">\n",
       "  <thead>\n",
       "    <tr style=\"text-align: right;\">\n",
       "      <th></th>\n",
       "      <th>Confusion matrix</th>\n",
       "      <th>Accuracy score</th>\n",
       "      <th>F1 score</th>\n",
       "      <th>ROC AUC Score</th>\n",
       "      <th>Average Precision score</th>\n",
       "      <th>Recall Score</th>\n",
       "    </tr>\n",
       "  </thead>\n",
       "  <tbody>\n",
       "    <tr>\n",
       "      <th>Gradient Boosting Classifier_Test</th>\n",
       "      <td>[[459, 10], [5, 55]]</td>\n",
       "      <td>0.971645</td>\n",
       "      <td>0.88</td>\n",
       "      <td>0.947672</td>\n",
       "      <td>0.785093</td>\n",
       "      <td>0.916667</td>\n",
       "    </tr>\n",
       "    <tr>\n",
       "      <th>Random Forest Classifier_Test</th>\n",
       "      <td>[[465, 4], [18, 42]]</td>\n",
       "      <td>0.958412</td>\n",
       "      <td>0.792453</td>\n",
       "      <td>0.845736</td>\n",
       "      <td>0.673157</td>\n",
       "      <td>0.7</td>\n",
       "    </tr>\n",
       "    <tr>\n",
       "      <th>Logistic Regression_Test</th>\n",
       "      <td>[[458, 11], [24, 36]]</td>\n",
       "      <td>0.933837</td>\n",
       "      <td>0.672897</td>\n",
       "      <td>0.788273</td>\n",
       "      <td>0.504943</td>\n",
       "      <td>0.6</td>\n",
       "    </tr>\n",
       "    <tr>\n",
       "      <th>Support Vector Machines_Test</th>\n",
       "      <td>[[469, 0], [60, 0]]</td>\n",
       "      <td>0.886578</td>\n",
       "      <td>0</td>\n",
       "      <td>0.5</td>\n",
       "      <td>0.113422</td>\n",
       "      <td>0</td>\n",
       "    </tr>\n",
       "    <tr>\n",
       "      <th>K Neighbors Classifier_Test</th>\n",
       "      <td>[[148, 321], [19, 41]]</td>\n",
       "      <td>0.357278</td>\n",
       "      <td>0.194313</td>\n",
       "      <td>0.499449</td>\n",
       "      <td>0.113311</td>\n",
       "      <td>0.683333</td>\n",
       "    </tr>\n",
       "  </tbody>\n",
       "</table>\n",
       "</div>"
      ],
      "text/plain": [
       "                                         Confusion matrix Accuracy score  \\\n",
       "Gradient Boosting Classifier_Test    [[459, 10], [5, 55]]       0.971645   \n",
       "Random Forest Classifier_Test        [[465, 4], [18, 42]]       0.958412   \n",
       "Logistic Regression_Test            [[458, 11], [24, 36]]       0.933837   \n",
       "Support Vector Machines_Test          [[469, 0], [60, 0]]       0.886578   \n",
       "K Neighbors Classifier_Test        [[148, 321], [19, 41]]       0.357278   \n",
       "\n",
       "                                   F1 score ROC AUC Score  \\\n",
       "Gradient Boosting Classifier_Test      0.88      0.947672   \n",
       "Random Forest Classifier_Test      0.792453      0.845736   \n",
       "Logistic Regression_Test           0.672897      0.788273   \n",
       "Support Vector Machines_Test              0           0.5   \n",
       "K Neighbors Classifier_Test        0.194313      0.499449   \n",
       "\n",
       "                                  Average Precision score Recall Score  \n",
       "Gradient Boosting Classifier_Test                0.785093     0.916667  \n",
       "Random Forest Classifier_Test                    0.673157          0.7  \n",
       "Logistic Regression_Test                         0.504943          0.6  \n",
       "Support Vector Machines_Test                     0.113422            0  \n",
       "K Neighbors Classifier_Test                      0.113311     0.683333  "
      ]
     },
     "execution_count": 91,
     "metadata": {},
     "output_type": "execute_result"
    }
   ],
   "source": [
    "scores.reindex([index for index in scores.index if 'Train' in index]).sort_values(by=scores.columns.tolist()[1:],ascending=[False for item in scores.columns][1:])\n",
    "scores.reindex([index for index in scores.index if 'Validation' in index]).sort_values(by=scores.columns.tolist()[1:],ascending=[False for item in scores.columns][1:])\n",
    "scores.reindex([index for index in scores.index if 'Test' in index]).sort_values(by=scores.columns.tolist()[1:],ascending=[False for item in scores.columns][1:])\n"
   ]
  },
  {
   "cell_type": "markdown",
   "metadata": {},
   "source": [
    "**Training Data**\n",
    "    - SVM has the best scores\n",
    "**Validation Data**\n",
    "    - Gradient Boosting Classifier has the best scores\n",
    "**Test Data**\n",
    "    - Gradient Boosting Classifier has the best scores\n",
    "    \n",
    "_Since Gradient Boosting Classifier has best metrics compared to other models on validation and test data.<br>\n",
    "**Gradient Boosting Classifier** is the final model selected_"
   ]
  },
  {
   "cell_type": "markdown",
   "metadata": {},
   "source": [
    "## 3.6 Final Model"
   ]
  },
  {
   "cell_type": "markdown",
   "metadata": {},
   "source": [
    "**Gradient Boosting Classifier is the final model selected**"
   ]
  },
  {
   "cell_type": "code",
   "execution_count": 95,
   "metadata": {
    "scrolled": true
   },
   "outputs": [
    {
     "data": {
      "text/html": [
       "<div>\n",
       "<style scoped>\n",
       "    .dataframe tbody tr th:only-of-type {\n",
       "        vertical-align: middle;\n",
       "    }\n",
       "\n",
       "    .dataframe tbody tr th {\n",
       "        vertical-align: top;\n",
       "    }\n",
       "\n",
       "    .dataframe thead th {\n",
       "        text-align: right;\n",
       "    }\n",
       "</style>\n",
       "<table border=\"1\" class=\"dataframe\">\n",
       "  <thead>\n",
       "    <tr style=\"text-align: right;\">\n",
       "      <th></th>\n",
       "      <th>Confusion matrix</th>\n",
       "      <th>Accuracy score</th>\n",
       "      <th>F1 score</th>\n",
       "      <th>ROC AUC Score</th>\n",
       "      <th>Average Precision score</th>\n",
       "      <th>Recall Score</th>\n",
       "    </tr>\n",
       "  </thead>\n",
       "  <tbody>\n",
       "    <tr>\n",
       "      <th>Gradient Boosting Classifier_Train</th>\n",
       "      <td>[[5085, 2], [12, 338]]</td>\n",
       "      <td>0.997425</td>\n",
       "      <td>0.97971</td>\n",
       "      <td>0.982661</td>\n",
       "      <td>0.962241</td>\n",
       "      <td>0.965714</td>\n",
       "    </tr>\n",
       "    <tr>\n",
       "      <th>Gradient Boosting Classifier_Validation</th>\n",
       "      <td>[[1110, 9], [11, 85]]</td>\n",
       "      <td>0.983539</td>\n",
       "      <td>0.894737</td>\n",
       "      <td>0.938687</td>\n",
       "      <td>0.809696</td>\n",
       "      <td>0.885417</td>\n",
       "    </tr>\n",
       "    <tr>\n",
       "      <th>Gradient Boosting Classifier_Test</th>\n",
       "      <td>[[459, 10], [5, 55]]</td>\n",
       "      <td>0.971645</td>\n",
       "      <td>0.88</td>\n",
       "      <td>0.947672</td>\n",
       "      <td>0.785093</td>\n",
       "      <td>0.916667</td>\n",
       "    </tr>\n",
       "  </tbody>\n",
       "</table>\n",
       "</div>"
      ],
      "text/plain": [
       "                                               Confusion matrix  \\\n",
       "Gradient Boosting Classifier_Train       [[5085, 2], [12, 338]]   \n",
       "Gradient Boosting Classifier_Validation   [[1110, 9], [11, 85]]   \n",
       "Gradient Boosting Classifier_Test          [[459, 10], [5, 55]]   \n",
       "\n",
       "                                        Accuracy score  F1 score  \\\n",
       "Gradient Boosting Classifier_Train            0.997425   0.97971   \n",
       "Gradient Boosting Classifier_Validation       0.983539  0.894737   \n",
       "Gradient Boosting Classifier_Test             0.971645      0.88   \n",
       "\n",
       "                                        ROC AUC Score Average Precision score  \\\n",
       "Gradient Boosting Classifier_Train           0.982661                0.962241   \n",
       "Gradient Boosting Classifier_Validation      0.938687                0.809696   \n",
       "Gradient Boosting Classifier_Test            0.947672                0.785093   \n",
       "\n",
       "                                        Recall Score  \n",
       "Gradient Boosting Classifier_Train          0.965714  \n",
       "Gradient Boosting Classifier_Validation     0.885417  \n",
       "Gradient Boosting Classifier_Test           0.916667  "
      ]
     },
     "execution_count": 95,
     "metadata": {},
     "output_type": "execute_result"
    }
   ],
   "source": [
    "scores.reindex(['Gradient Boosting Classifier_Train','Gradient Boosting Classifier_Validation','Gradient Boosting Classifier_Test'])"
   ]
  },
  {
   "cell_type": "markdown",
   "metadata": {},
   "source": [
    "- Gradient Boosting Classifier has good Recall Score as compared to Precision score for validation and test data.\n",
    "- Since we are looking for customers who are going to churn we prefer to have **Low False Negative** (FN = Predicted customer won't churn but customer discontinues the service) which is captured in Recall Score. High Recall implies low FN.\n",
    "- Rather than Precision Score which captures False Positive (FP = Predicted customer would churn but customer continued the service). "
   ]
  },
  {
   "cell_type": "code",
   "execution_count": 96,
   "metadata": {
    "scrolled": false
   },
   "outputs": [
    {
     "data": {
      "text/plain": [
       "Text(0.5,1,'Confusion matrix for Gradient Boosting Classifier_Train Data')"
      ]
     },
     "execution_count": 96,
     "metadata": {},
     "output_type": "execute_result"
    },
    {
     "data": {
      "text/plain": [
       "<matplotlib.axes._subplots.AxesSubplot at 0x315f3898>"
      ]
     },
     "execution_count": 96,
     "metadata": {},
     "output_type": "execute_result"
    },
    {
     "data": {
      "image/png": "[encoded data removed]",
      "text/plain": [
       "<Figure size 432x288 with 2 Axes>"
      ]
     },
     "metadata": {
      "needs_background": "light"
     },
     "output_type": "display_data"
    },
    {
     "data": {
      "text/plain": [
       "Text(0.5,1,'Confusion matrix for Gradient Boosting Classifier_Validation Data')"
      ]
     },
     "execution_count": 96,
     "metadata": {},
     "output_type": "execute_result"
    },
    {
     "data": {
      "text/plain": [
       "<matplotlib.axes._subplots.AxesSubplot at 0x30f0a080>"
      ]
     },
     "execution_count": 96,
     "metadata": {},
     "output_type": "execute_result"
    },
    {
     "data": {
      "image/png": "[encoded data removed]",
      "text/plain": [
       "<Figure size 432x288 with 2 Axes>"
      ]
     },
     "metadata": {
      "needs_background": "light"
     },
     "output_type": "display_data"
    },
    {
     "data": {
      "text/plain": [
       "Text(0.5,1,'Confusion matrix for Gradient Boosting Classifier_Test Data')"
      ]
     },
     "execution_count": 96,
     "metadata": {},
     "output_type": "execute_result"
    },
    {
     "data": {
      "text/plain": [
       "<matplotlib.axes._subplots.AxesSubplot at 0x3665fbe0>"
      ]
     },
     "execution_count": 96,
     "metadata": {},
     "output_type": "execute_result"
    },
    {
     "data": {
      "image/png": "[encoded data removed]",
      "text/plain": [
       "<Figure size 432x288 with 2 Axes>"
      ]
     },
     "metadata": {
      "needs_background": "light"
     },
     "output_type": "display_data"
    }
   ],
   "source": [
    "for col in ['Gradient Boosting Classifier_Train','Gradient Boosting Classifier_Validation','Gradient Boosting Classifier_Test']:\n",
    "    plt.title('Confusion matrix for '+col+' Data')\n",
    "    sns.heatmap(scores.loc[col,'Confusion matrix'], fmt=\".1f\",annot=True)\n",
    "    plt.show()"
   ]
  }
 ],
 "metadata": {
  "kernelspec": {
   "display_name": "Python 3",
   "language": "python",
   "name": "python3"
  },
  "language_info": {
   "codemirror_mode": {
    "name": "ipython",
    "version": 3
   },
   "file_extension": ".py",
   "mimetype": "text/x-python",
   "name": "python",
   "nbconvert_exporter": "python",
   "pygments_lexer": "ipython3",
   "version": "3.7.3"
  },
  "toc": {
   "base_numbering": 1,
   "nav_menu": {},
   "number_sections": true,
   "sideBar": true,
   "skip_h1_title": false,
   "title_cell": "Table of Contents",
   "title_sidebar": "Contents",
   "toc_cell": false,
   "toc_position": {},
   "toc_section_display": true,
   "toc_window_display": false
  }
 },
 "nbformat": 4,
 "nbformat_minor": 2
}
